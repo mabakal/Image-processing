{
 "cells": [
  {
   "cell_type": "markdown",
   "id": "69bdd973",
   "metadata": {},
   "source": [
    "# Base de données multimédia"
   ]
  },
  {
   "cell_type": "markdown",
   "id": "66caf161",
   "metadata": {},
   "source": [
    "<p> Une base de données multimédia est une base de données utilisé pour stocker des données multimédia ( image, les son, vidéo ou les texts). les applications de données multimédia sont divers voici quelque unes. </p>"
   ]
  },
  {
   "cell_type": "markdown",
   "id": "5c434541",
   "metadata": {},
   "source": [
    "## Application"
   ]
  },
  {
   "cell_type": "markdown",
   "id": "49596645",
   "metadata": {},
   "source": [
    "### Texte"
   ]
  },
  {
   "cell_type": "markdown",
   "id": "0de2b5fe",
   "metadata": {},
   "source": [
    "<p>\n",
    " <ul> \n",
    "     <li> Indexation des documents</li>\n",
    "     <li> Classification des documents</li>\n",
    "     <li> Analyse de sentiment</li>\n",
    "</ul>\n",
    "</p>"
   ]
  },
  {
   "cell_type": "markdown",
   "id": "976be36a",
   "metadata": {},
   "source": [
    "### Image"
   ]
  },
  {
   "cell_type": "markdown",
   "id": "a7b1b555",
   "metadata": {},
   "source": [
    " <p>\n",
    " <ul> \n",
    "     <li> Système de reconnaissance de forme</li>\n",
    "     <li> Moteurs de recherche á base de requete visuelle</li>\n",
    "     <li> Analyse de sentiment</li>\n",
    "</ul>\n",
    "</p>"
   ]
  },
  {
   "cell_type": "markdown",
   "id": "8ddb2db6",
   "metadata": {},
   "source": [
    "### Son"
   ]
  },
  {
   "cell_type": "markdown",
   "id": "cebcf84d",
   "metadata": {},
   "source": [
    "<p>\n",
    " <ul> \n",
    "     <li> Reconnaissance vocal</li>\n",
    "     <li> Traduction</li>\n",
    "</ul>\n",
    "</p>"
   ]
  },
  {
   "cell_type": "markdown",
   "id": "9766c63f",
   "metadata": {},
   "source": [
    "###  Vidéo"
   ]
  },
  {
   "cell_type": "markdown",
   "id": "0accb80a",
   "metadata": {},
   "source": [
    "<p>\n",
    " <ul> \n",
    "     <li> Détection d'object</li>\n",
    "     <li> Gestion de trafic routiére</li>\n",
    "</ul>\n",
    "</p>"
   ]
  },
  {
   "cell_type": "markdown",
   "id": "0f7379ec",
   "metadata": {},
   "source": [
    "### Système de reconnaissance de formes"
   ]
  },
  {
   "cell_type": "markdown",
   "id": "b1c9db05",
   "metadata": {},
   "source": [
    "<p> Une des applications est le système de reconnaissance de forme. Mais c'est quoi un système de reconnaissance de forme? Une système de reconnaissance de forme est un système informatique capable de reconnaitre <br>,classifier et de reconnaitre des formes dans des images ou des données numérique. Il est utilisé dans de nombreux domaine:\n",
    "</p>\n",
    "<p>\n",
    "  <ul> \n",
    "      <li> \n",
    "          <h5>Reconnaissance de visage </h5>\n",
    "          <p> Ils sont utilisés dans la reconnaissance facial pour identifier et authentifier les individus en fonction de leurs caractéristique facial.\n",
    "          </p>\n",
    "      </li>\n",
    "      <li> \n",
    "          <h5>Reconnaissance de signature </h5>\n",
    "          <p> \n",
    "              Pour reconnaitre les signatures afin d'authentifier les documents, les transactions bancaire etc\n",
    "          </p>\n",
    "      </li>\n",
    "  </ul>\n",
    "</p>"
   ]
  },
  {
   "cell_type": "markdown",
   "id": "649525c3",
   "metadata": {},
   "source": [
    "#### I- les phases d'une système de reconnaissance de forme"
   ]
  },
  {
   "cell_type": "markdown",
   "id": "63e4b078",
   "metadata": {},
   "source": [
    "<p> Le processus pour reconnaitre une forme comporte en générale quatre phase: </p>\n",
    "<p> \n",
    "    <ul>\n",
    "        <li>\n",
    "            <h4> Prétraitement</h4>\n",
    "            <p> Après l'acquisition de données numérique, on commence par la phase de prétraitement. Cette phase consite á purifier l'image pour son traitement. On effectue les opérations comme la correction du bruit, l'ajustement de la luminosité et du contrast, la mise à l'échelle, filtrage, binarisation etc</p>\n",
    "        </li>\n",
    "        <li>\n",
    "             <h4> Extraction </h4>\n",
    "            <p> Dans cette phase on extraite les caractéristiques intrèsect de chaque donnée qui permettrons de les identifier. Ces caractérique sont representé sous forme de vecteur. Il existe différent approche pour extraires les caractèristique de l'image, on a par exemple le moment de Hu, moment de Tchebitcheve etc</p>\n",
    "        </li>\n",
    "        <li> \n",
    "            <h4> Classification</h4>\n",
    "            <p> C'est la face de reconnaissance, pour y arrivé il y a plus modèle de classification d'apprentissage automatique qui sont disponible: K plus proche voisin, reseaux de neuronnes, support vector machine</p>\n",
    "        </li>\n",
    "    </ul>\n",
    "\n",
    "</p>"
   ]
  },
  {
   "cell_type": "code",
   "execution_count": 16,
   "id": "fa8118cf",
   "metadata": {},
   "outputs": [],
   "source": [
    "x = [\n",
    "    [\n",
    "        [1,2,4,5],\n",
    "        [1,3,4,5], \n",
    "        [3,5,2,1]\n",
    "    ],\n",
    "    [\n",
    "        [0,-1,3,5],\n",
    "        [4,6,7,9],\n",
    "        [3,1,4,5]\n",
    "    ]\n",
    "]"
   ]
  },
  {
   "cell_type": "code",
   "execution_count": 17,
   "id": "8199b259",
   "metadata": {},
   "outputs": [
    {
     "data": {
      "text/plain": [
       "[[[1, 2, 4, 5], [1, 3, 4, 5], [3, 5, 2, 1]],\n",
       " [[0, -1, 3, 5], [4, 6, 7, 9], [3, 1, 4, 5]]]"
      ]
     },
     "execution_count": 17,
     "metadata": {},
     "output_type": "execute_result"
    }
   ],
   "source": [
    "x"
   ]
  },
  {
   "cell_type": "code",
   "execution_count": 18,
   "id": "872251ad",
   "metadata": {},
   "outputs": [],
   "source": [
    "import numpy as np\n",
    "x = np.array(x)"
   ]
  },
  {
   "cell_type": "code",
   "execution_count": 19,
   "id": "ed01f287",
   "metadata": {},
   "outputs": [
    {
     "data": {
      "text/plain": [
       "(2, 3, 4)"
      ]
     },
     "execution_count": 19,
     "metadata": {},
     "output_type": "execute_result"
    }
   ],
   "source": [
    "x.shape"
   ]
  },
  {
   "cell_type": "code",
   "execution_count": 28,
   "id": "a682e5c9",
   "metadata": {},
   "outputs": [
    {
     "data": {
      "text/plain": [
       "array([[1, 1, 3],\n",
       "       [0, 4, 3]])"
      ]
     },
     "execution_count": 28,
     "metadata": {},
     "output_type": "execute_result"
    }
   ],
   "source": [
    "x[:, :, 0]"
   ]
  },
  {
   "cell_type": "code",
   "execution_count": null,
   "id": "c25af5bf",
   "metadata": {},
   "outputs": [],
   "source": []
  }
 ],
 "metadata": {
  "kernelspec": {
   "display_name": "Python 3 (ipykernel)",
   "language": "python",
   "name": "python3"
  },
  "language_info": {
   "codemirror_mode": {
    "name": "ipython",
    "version": 3
   },
   "file_extension": ".py",
   "mimetype": "text/x-python",
   "name": "python",
   "nbconvert_exporter": "python",
   "pygments_lexer": "ipython3",
   "version": "3.9.13"
  }
 },
 "nbformat": 4,
 "nbformat_minor": 5
}
